{
 "cells": [
  {
   "cell_type": "markdown",
   "id": "a3051d22-feba-496d-ab37-720a62a37304",
   "metadata": {},
   "source": [
    "# IST 652: Final Project\n",
    "### Patty Meadows, Jon Durbin\n",
    "\n",
    "### Table of Contents\n",
    "1. [Data Importing/Cleaning](#importclean)\n",
    "1. [Questions](#questions)\n",
    "    1. [Average Runtime](#avgruntime)\n",
    "    1. [What is the Count of Actors and Directors per Platform?](#countactorsdirs)\n",
    "    1. [Distribution of Genres](#distgenre)\n",
    "    1. [Average TMDB and IMDB Score per Genre](#avgtmdb)\n",
    "    1. [What is the Distribution of Movies and TV Shows Per Platform?](#distshowsmovies)\n",
    "    1. [TMDB and IMDB Score Distribution](#imdbscoredist)\n",
    "    1. [Average TMDB and IMDB Score Per Platform](#tmdbscoreperplatform)\n",
    "1. [Sources](#sources)"
   ]
  },
  {
   "cell_type": "markdown",
   "id": "f75a0137-c792-4ddc-917c-37255fd891ff",
   "metadata": {},
   "source": [
    "## Data Importing/Cleaning <a name=\"importclean\"></a>"
   ]
  },
  {
   "cell_type": "code",
   "execution_count": 1,
   "id": "e1df9da5-95d6-404f-b9f2-5d0651840547",
   "metadata": {},
   "outputs": [],
   "source": [
    "import pathlib\n",
    "import pandas as pd\n",
    "import csv\n",
    "import re\n",
    "\n",
    "import matplotlib\n",
    "import matplotlib.pyplot as plot"
   ]
  },
  {
   "cell_type": "code",
   "execution_count": 2,
   "id": "e34fa6aa-6212-4417-8997-1df68095e892",
   "metadata": {},
   "outputs": [],
   "source": [
    "# data in raw folder is exactly how it was downloaded - all changes made to it go in the cleaned folder\n",
    "\n",
    "raw_data_path = pathlib.Path('data/raw')\n",
    "cleaned_data_path = pathlib.Path('data/cleaned')"
   ]
  },
  {
   "cell_type": "markdown",
   "id": "aee04813-397c-423f-875d-739da0125bc2",
   "metadata": {},
   "source": [
    "We create some regex patterns that we can use to read in the csv files. The files have \"good\" and \"bad\" rows. These regular expressions will ignore the \"bad\" rows."
   ]
  },
  {
   "cell_type": "code",
   "execution_count": 3,
   "id": "16a658c8-5d06-4998-aa3a-cb393ee52999",
   "metadata": {},
   "outputs": [],
   "source": [
    "titles_pattern = re.compile(\n",
    "    r'''\n",
    "    ^(\\w*),             # id\n",
    "    (\\\"?.*\\\"?),         # title\n",
    "    (MOVIE|SHOW),       # type\n",
    "    (\\\"?.*\\\"?),         # description\n",
    "    (\\d{4}?),           # release_year\n",
    "    ([\\w-]*?),          # age_certification\n",
    "    (\\d*),              # runtime\n",
    "    (\\\"?[a-z\\[\\]\\-\\\"\\',\\s]*\\\"?),   # genres\n",
    "    (\\\"?[A-Z\\[\\]\\-\\\"\\',\\s]*\\\"?),   # production_countries\n",
    "    ([\\d.]*),           # seasons\n",
    "    (\\w*),              # imdb_id\n",
    "    ([\\d.]*),           # imdb_score\n",
    "    ([\\d.]*),           # imdb_votes\n",
    "    ([\\d.]*),           # tmdb_popularity\n",
    "    ([\\d.]*)$           # tmdb_score\n",
    "    ''',\n",
    "    re.X\n",
    ")\n",
    "\n",
    "credits_pattern = re.compile(\n",
    "    r'''\n",
    "    ^(\\w*),  # person_id\n",
    "    (\\w*),   # id\n",
    "    (.*),    # name\n",
    "    (.*),    # character\n",
    "    (\\w*)$   # role\n",
    "    ''',\n",
    "    re.X\n",
    ")"
   ]
  },
  {
   "cell_type": "markdown",
   "id": "964edf6d-0979-46ee-903a-9c3cac56dd93",
   "metadata": {},
   "source": [
    "Below, we iterate through all of the files in the raw folder, remove any bad characters, then re-write them to the clean folder."
   ]
  },
  {
   "cell_type": "code",
   "execution_count": 4,
   "id": "e42fedd0-778a-4537-8829-3317a0c97688",
   "metadata": {},
   "outputs": [
    {
     "name": "stdout",
     "output_type": "stream",
     "text": [
      "writing to data\\cleaned\\amazon prime\\credits.csv\n",
      "writing to data\\cleaned\\amazon prime\\titles.csv\n",
      "writing to data\\cleaned\\disney\\credits.csv\n",
      "writing to data\\cleaned\\disney\\titles.csv\n",
      "writing to data\\cleaned\\hbo max\\credits.csv\n",
      "writing to data\\cleaned\\hbo max\\titles.csv\n",
      "writing to data\\cleaned\\hulu tv\\credits.csv\n",
      "writing to data\\cleaned\\hulu tv\\titles.csv\n",
      "writing to data\\cleaned\\netflix\\credits.csv\n",
      "writing to data\\cleaned\\netflix\\titles.csv\n",
      "writing to data\\cleaned\\paramount\\credits.csv\n",
      "writing to data\\cleaned\\paramount\\titles.csv\n"
     ]
    }
   ],
   "source": [
    "credits_header = 'person_id,id,name,character,role,platform'\n",
    "titles_header = 'id,title,type,description,release_year,age_certification,runtime,genres,production_countries,seasons,imdb_id,imdb_score,imdb_votes,tmdb_popularity,tmdb_score,platform'\n",
    "\n",
    "for folder in raw_data_path.iterdir():\n",
    "    for file in folder.iterdir():\n",
    "        rows = []\n",
    "        with open(file, 'r', encoding='utf-8') as f:\n",
    "            for i, line in enumerate(f.readlines()):\n",
    "                if i == 0: continue\n",
    "                new_row = []\n",
    "                if file.stem == 'titles':\n",
    "                    m = re.search(titles_pattern, line)\n",
    "                    if m:\n",
    "                        cols = {\n",
    "                            1: m[1].replace('\"', ''),\n",
    "                            2: m[2].replace('\"', '').replace(',', ''),\n",
    "                            3: m[3].replace('\"', ''),\n",
    "                            4: m[4].replace('\"', '').replace(',', ''),\n",
    "                            5: m[5].replace('\"', ''),\n",
    "                            6: m[6].replace('\"', ''),\n",
    "                            7: m[7].replace('\"', ''),\n",
    "                            8: m[8].replace('\"', '').replace('[', '').replace(']', '').replace(\"'\", '').replace(',', '|').replace(' ', ''),\n",
    "                            9: m[9].replace('\"', '').replace('[', '').replace(']', '').replace(\"'\", '').replace(',', '|').replace(' ', ''),\n",
    "                            10: m[10].replace('\"', ''),\n",
    "                            11: m[11].replace('\"', ''),\n",
    "                            12: m[12].replace('\"', ''),\n",
    "                            13: m[13].replace('\"', ''),\n",
    "                            14: m[14].replace('\"', ''),\n",
    "                            15: m[15].replace('\"', ''),\n",
    "                        }\n",
    "                else:\n",
    "                    m = re.search(credits_pattern, line)\n",
    "                    if m:\n",
    "                        cols = {\n",
    "                            1: m[1],\n",
    "                            2: m[2].replace('\"', '').replace(',', ''),\n",
    "                            3: m[3].replace('\"', '').replace(',', ''),\n",
    "                            4: m[4].replace('\"', '').replace(',', ''),\n",
    "                            5: m[5],\n",
    "                        }\n",
    "                new_row = ','.join([cols[i] for i in cols.keys()] + [folder.name])\n",
    "                rows.append(new_row)\n",
    "\n",
    "        clean_path = cleaned_data_path.joinpath(folder.name)\n",
    "        # try creating the directory, just in case\n",
    "        clean_path.mkdir(exist_ok=True)\n",
    "        print(f'writing to {clean_path}\\\\{file.name}')\n",
    "        with open(f'{clean_path}\\\\{file.name}', 'w', encoding='utf-8') as f:\n",
    "            if file.stem == 'titles':\n",
    "                f.write('\\n'.join([titles_header] + list(set(rows))))\n",
    "            else:\n",
    "                f.write('\\n'.join([credits_header] + list(set(rows))))"
   ]
  },
  {
   "cell_type": "code",
   "execution_count": 5,
   "id": "c631bdb9-f2a4-401f-a35f-42e10428ebe6",
   "metadata": {},
   "outputs": [],
   "source": [
    "# build a massive data dictionary of all of the datasets\n",
    "\n",
    "data = {}\n",
    "\n",
    "for folder in cleaned_data_path.iterdir():\n",
    "    for file in folder.iterdir():\n",
    "        data[f'{folder.name}/{file.name}'] = pd.read_csv(file, encoding='utf-8', on_bad_lines='skip')\n",
    "\n",
    "# concatenate the datasets that are relevant to each other\n",
    "\n",
    "credits = pd.concat([data[i] for i in data.keys() if 'credits' in i])\n",
    "titles = pd.concat([data[i] for i in data.keys() if 'titles' in i])"
   ]
  },
  {
   "cell_type": "code",
   "execution_count": 6,
   "id": "53b905ba-d7f7-40cf-a0af-58ac863b6553",
   "metadata": {},
   "outputs": [
    {
     "data": {
      "text/html": [
       "<div>\n",
       "<style scoped>\n",
       "    .dataframe tbody tr th:only-of-type {\n",
       "        vertical-align: middle;\n",
       "    }\n",
       "\n",
       "    .dataframe tbody tr th {\n",
       "        vertical-align: top;\n",
       "    }\n",
       "\n",
       "    .dataframe thead th {\n",
       "        text-align: right;\n",
       "    }\n",
       "</style>\n",
       "<table border=\"1\" class=\"dataframe\">\n",
       "  <thead>\n",
       "    <tr style=\"text-align: right;\">\n",
       "      <th></th>\n",
       "      <th>person_id</th>\n",
       "      <th>id</th>\n",
       "      <th>name</th>\n",
       "      <th>character</th>\n",
       "      <th>role</th>\n",
       "      <th>platform</th>\n",
       "    </tr>\n",
       "  </thead>\n",
       "  <tbody>\n",
       "    <tr>\n",
       "      <th>0</th>\n",
       "      <td>200486</td>\n",
       "      <td>tm230558</td>\n",
       "      <td>Lena Owens</td>\n",
       "      <td>Divine</td>\n",
       "      <td>ACTOR</td>\n",
       "      <td>amazon prime</td>\n",
       "    </tr>\n",
       "    <tr>\n",
       "      <th>1</th>\n",
       "      <td>157063</td>\n",
       "      <td>tm214169</td>\n",
       "      <td>Danielle Lauder</td>\n",
       "      <td>Emily Turner</td>\n",
       "      <td>ACTOR</td>\n",
       "      <td>amazon prime</td>\n",
       "    </tr>\n",
       "    <tr>\n",
       "      <th>2</th>\n",
       "      <td>881120</td>\n",
       "      <td>tm95163</td>\n",
       "      <td>Jesús Luque</td>\n",
       "      <td>Aristander (as Jesus Luque)</td>\n",
       "      <td>ACTOR</td>\n",
       "      <td>amazon prime</td>\n",
       "    </tr>\n",
       "    <tr>\n",
       "      <th>3</th>\n",
       "      <td>14967</td>\n",
       "      <td>ts21182</td>\n",
       "      <td>Corbin Bernsen</td>\n",
       "      <td>Henry Spencer</td>\n",
       "      <td>ACTOR</td>\n",
       "      <td>amazon prime</td>\n",
       "    </tr>\n",
       "  </tbody>\n",
       "</table>\n",
       "</div>"
      ],
      "text/plain": [
       "   person_id        id             name                    character   role  \\\n",
       "0     200486  tm230558       Lena Owens                       Divine  ACTOR   \n",
       "1     157063  tm214169  Danielle Lauder                 Emily Turner  ACTOR   \n",
       "2     881120   tm95163      Jesús Luque  Aristander (as Jesus Luque)  ACTOR   \n",
       "3      14967   ts21182   Corbin Bernsen                Henry Spencer  ACTOR   \n",
       "\n",
       "       platform  \n",
       "0  amazon prime  \n",
       "1  amazon prime  \n",
       "2  amazon prime  \n",
       "3  amazon prime  "
      ]
     },
     "execution_count": 6,
     "metadata": {},
     "output_type": "execute_result"
    }
   ],
   "source": [
    "credits.head(4)"
   ]
  },
  {
   "cell_type": "code",
   "execution_count": 7,
   "id": "c40bccc7-3f7b-492a-a454-9bff2f0941c0",
   "metadata": {},
   "outputs": [
    {
     "data": {
      "text/html": [
       "<div>\n",
       "<style scoped>\n",
       "    .dataframe tbody tr th:only-of-type {\n",
       "        vertical-align: middle;\n",
       "    }\n",
       "\n",
       "    .dataframe tbody tr th {\n",
       "        vertical-align: top;\n",
       "    }\n",
       "\n",
       "    .dataframe thead th {\n",
       "        text-align: right;\n",
       "    }\n",
       "</style>\n",
       "<table border=\"1\" class=\"dataframe\">\n",
       "  <thead>\n",
       "    <tr style=\"text-align: right;\">\n",
       "      <th></th>\n",
       "      <th>id</th>\n",
       "      <th>title</th>\n",
       "      <th>type</th>\n",
       "      <th>description</th>\n",
       "      <th>release_year</th>\n",
       "      <th>age_certification</th>\n",
       "      <th>runtime</th>\n",
       "      <th>genres</th>\n",
       "      <th>production_countries</th>\n",
       "      <th>seasons</th>\n",
       "      <th>imdb_id</th>\n",
       "      <th>imdb_score</th>\n",
       "      <th>imdb_votes</th>\n",
       "      <th>tmdb_popularity</th>\n",
       "      <th>tmdb_score</th>\n",
       "      <th>platform</th>\n",
       "    </tr>\n",
       "  </thead>\n",
       "  <tbody>\n",
       "    <tr>\n",
       "      <th>0</th>\n",
       "      <td>tm452832</td>\n",
       "      <td>Azeem Banatwalla: Problems</td>\n",
       "      <td>MOVIE</td>\n",
       "      <td>Azeem Banatwalla's second stand-up special is ...</td>\n",
       "      <td>2019</td>\n",
       "      <td>NaN</td>\n",
       "      <td>67</td>\n",
       "      <td>comedy</td>\n",
       "      <td>IN</td>\n",
       "      <td>NaN</td>\n",
       "      <td>tt9569212</td>\n",
       "      <td>7.8</td>\n",
       "      <td>296.0</td>\n",
       "      <td>1.005</td>\n",
       "      <td>6.8</td>\n",
       "      <td>amazon prime</td>\n",
       "    </tr>\n",
       "    <tr>\n",
       "      <th>1</th>\n",
       "      <td>tm999311</td>\n",
       "      <td>Donna: Stronger Than Pretty</td>\n",
       "      <td>MOVIE</td>\n",
       "      <td>A young mother's American Dream turns into a l...</td>\n",
       "      <td>2021</td>\n",
       "      <td>NaN</td>\n",
       "      <td>110</td>\n",
       "      <td>drama</td>\n",
       "      <td>US</td>\n",
       "      <td>NaN</td>\n",
       "      <td>tt14532328</td>\n",
       "      <td>6.3</td>\n",
       "      <td>509.0</td>\n",
       "      <td>1.353</td>\n",
       "      <td>4.5</td>\n",
       "      <td>amazon prime</td>\n",
       "    </tr>\n",
       "    <tr>\n",
       "      <th>2</th>\n",
       "      <td>tm466668</td>\n",
       "      <td>The End of the Road</td>\n",
       "      <td>MOVIE</td>\n",
       "      <td>In Peru Sergio García Locatelli visits both th...</td>\n",
       "      <td>2015</td>\n",
       "      <td>NaN</td>\n",
       "      <td>40</td>\n",
       "      <td>documentation</td>\n",
       "      <td>PE</td>\n",
       "      <td>NaN</td>\n",
       "      <td>tt5341716</td>\n",
       "      <td>NaN</td>\n",
       "      <td>NaN</td>\n",
       "      <td>0.600</td>\n",
       "      <td>4.0</td>\n",
       "      <td>amazon prime</td>\n",
       "    </tr>\n",
       "    <tr>\n",
       "      <th>3</th>\n",
       "      <td>tm115888</td>\n",
       "      <td>Revolt of the Zombies</td>\n",
       "      <td>MOVIE</td>\n",
       "      <td>The story is set in Cambodia in the years foll...</td>\n",
       "      <td>1936</td>\n",
       "      <td>NaN</td>\n",
       "      <td>65</td>\n",
       "      <td>horror</td>\n",
       "      <td>US</td>\n",
       "      <td>NaN</td>\n",
       "      <td>tt0028174</td>\n",
       "      <td>3.4</td>\n",
       "      <td>1693.0</td>\n",
       "      <td>2.739</td>\n",
       "      <td>3.3</td>\n",
       "      <td>amazon prime</td>\n",
       "    </tr>\n",
       "  </tbody>\n",
       "</table>\n",
       "</div>"
      ],
      "text/plain": [
       "         id                        title   type  \\\n",
       "0  tm452832   Azeem Banatwalla: Problems  MOVIE   \n",
       "1  tm999311  Donna: Stronger Than Pretty  MOVIE   \n",
       "2  tm466668          The End of the Road  MOVIE   \n",
       "3  tm115888        Revolt of the Zombies  MOVIE   \n",
       "\n",
       "                                         description  release_year  \\\n",
       "0  Azeem Banatwalla's second stand-up special is ...          2019   \n",
       "1  A young mother's American Dream turns into a l...          2021   \n",
       "2  In Peru Sergio García Locatelli visits both th...          2015   \n",
       "3  The story is set in Cambodia in the years foll...          1936   \n",
       "\n",
       "  age_certification  runtime         genres production_countries  seasons  \\\n",
       "0               NaN       67         comedy                   IN      NaN   \n",
       "1               NaN      110          drama                   US      NaN   \n",
       "2               NaN       40  documentation                   PE      NaN   \n",
       "3               NaN       65         horror                   US      NaN   \n",
       "\n",
       "      imdb_id  imdb_score  imdb_votes  tmdb_popularity  tmdb_score  \\\n",
       "0   tt9569212         7.8       296.0            1.005         6.8   \n",
       "1  tt14532328         6.3       509.0            1.353         4.5   \n",
       "2   tt5341716         NaN         NaN            0.600         4.0   \n",
       "3   tt0028174         3.4      1693.0            2.739         3.3   \n",
       "\n",
       "       platform  \n",
       "0  amazon prime  \n",
       "1  amazon prime  \n",
       "2  amazon prime  \n",
       "3  amazon prime  "
      ]
     },
     "execution_count": 7,
     "metadata": {},
     "output_type": "execute_result"
    }
   ],
   "source": [
    "titles.head(4)"
   ]
  },
  {
   "cell_type": "code",
   "execution_count": 8,
   "id": "186a3211-5ef9-40d3-b4b4-0c196eaeddcd",
   "metadata": {},
   "outputs": [
    {
     "data": {
      "text/plain": [
       "(array(['amazon prime', 'disney', 'hbo max', 'hulu tv', 'netflix',\n",
       "        'paramount'], dtype=object),\n",
       " array(['amazon prime', 'disney', 'hbo max', 'hulu tv', 'netflix',\n",
       "        'paramount'], dtype=object))"
      ]
     },
     "execution_count": 8,
     "metadata": {},
     "output_type": "execute_result"
    }
   ],
   "source": [
    "# confirm that data from each of the six platforms is present\n",
    "\n",
    "titles.platform.unique(), credits.platform.unique()"
   ]
  },
  {
   "cell_type": "markdown",
   "id": "98663f10-3c39-4424-bc3f-335146cf29ee",
   "metadata": {},
   "source": [
    "1. average runtime per platform\n",
    "1. distribution of genres\n",
    "1. distribution between tv/movies\n",
    "1. average tmdb score per genre\n",
    "1. count of actor and director per platform\n",
    "1. average tmdb score for each person\n",
    "1. imdb score distribution"
   ]
  },
  {
   "cell_type": "markdown",
   "id": "1f813913-215b-4edf-871b-cdce2bcb45df",
   "metadata": {},
   "source": [
    "## Questions <a name=\"questions\"></a>"
   ]
  },
  {
   "cell_type": "markdown",
   "id": "564e709f-55d2-4e3b-a007-7f753bc1f246",
   "metadata": {},
   "source": [
    "### Question 1: Average runtime per platform <a name=\"avgruntime\"></a>"
   ]
  },
  {
   "cell_type": "code",
   "execution_count": 9,
   "id": "11c5d0e0",
   "metadata": {
    "tags": []
   },
   "outputs": [
    {
     "data": {
      "text/html": [
       "<div>\n",
       "<style scoped>\n",
       "    .dataframe tbody tr th:only-of-type {\n",
       "        vertical-align: middle;\n",
       "    }\n",
       "\n",
       "    .dataframe tbody tr th {\n",
       "        vertical-align: top;\n",
       "    }\n",
       "\n",
       "    .dataframe thead th {\n",
       "        text-align: right;\n",
       "    }\n",
       "</style>\n",
       "<table border=\"1\" class=\"dataframe\">\n",
       "  <thead>\n",
       "    <tr style=\"text-align: right;\">\n",
       "      <th></th>\n",
       "      <th>avg_runtime</th>\n",
       "    </tr>\n",
       "    <tr>\n",
       "      <th>platform</th>\n",
       "      <th></th>\n",
       "    </tr>\n",
       "  </thead>\n",
       "  <tbody>\n",
       "    <tr>\n",
       "      <th>disney</th>\n",
       "      <td>60.4</td>\n",
       "    </tr>\n",
       "    <tr>\n",
       "      <th>hulu tv</th>\n",
       "      <td>62.6</td>\n",
       "    </tr>\n",
       "    <tr>\n",
       "      <th>paramount</th>\n",
       "      <td>72.9</td>\n",
       "    </tr>\n",
       "    <tr>\n",
       "      <th>netflix</th>\n",
       "      <td>77.2</td>\n",
       "    </tr>\n",
       "    <tr>\n",
       "      <th>hbo max</th>\n",
       "      <td>81.4</td>\n",
       "    </tr>\n",
       "    <tr>\n",
       "      <th>amazon prime</th>\n",
       "      <td>86.6</td>\n",
       "    </tr>\n",
       "  </tbody>\n",
       "</table>\n",
       "</div>"
      ],
      "text/plain": [
       "              avg_runtime\n",
       "platform                 \n",
       "disney               60.4\n",
       "hulu tv              62.6\n",
       "paramount            72.9\n",
       "netflix              77.2\n",
       "hbo max              81.4\n",
       "amazon prime         86.6"
      ]
     },
     "execution_count": 9,
     "metadata": {},
     "output_type": "execute_result"
    }
   ],
   "source": [
    "Q1 = titles.groupby(\"platform\").agg(\n",
    "    avg_runtime = (\"runtime\",\"mean\")\n",
    ").round(1).sort_values(by=[\"avg_runtime\"])\n",
    "\n",
    "Q1"
   ]
  },
  {
   "cell_type": "code",
   "execution_count": 10,
   "id": "77b97f58",
   "metadata": {},
   "outputs": [
    {
     "data": {
      "text/plain": [
       "<AxesSubplot:title={'center':'Average Runtime (in minutes) per Platform'}, ylabel='platform'>"
      ]
     },
     "execution_count": 10,
     "metadata": {},
     "output_type": "execute_result"
    },
    {
     "data": {
      "image/png": "[encoded data removed]",
      "text/plain": [
       "<Figure size 640x480 with 1 Axes>"
      ]
     },
     "metadata": {},
     "output_type": "display_data"
    }
   ],
   "source": [
    "Q1.plot.barh(title=\"Average Runtime (in minutes) per Platform\",legend=False)"
   ]
  },
  {
   "cell_type": "markdown",
   "id": "96b9759b-2e83-4d82-bcdf-db7c35d65c94",
   "metadata": {},
   "source": [
    "### Question 2: What is the Count of Actors and Directors per Platform? <a name=\"countactorsdirs\"></a>"
   ]
  },
  {
   "cell_type": "code",
   "execution_count": 11,
   "id": "7abf927c-77c3-4aa1-88a4-7dffb3900f3c",
   "metadata": {
    "tags": []
   },
   "outputs": [
    {
     "name": "stdout",
     "output_type": "stream",
     "text": [
      "              Actors\n",
      "platform            \n",
      "disney         25060\n",
      "hulu tv        30448\n",
      "paramount      37664\n",
      "hbo max        63619\n",
      "netflix        73251\n",
      "amazon prime  115793\n",
      "\n",
      "              Directors\n",
      "platform               \n",
      "disney             1352\n",
      "hulu tv            1354\n",
      "paramount          2178\n",
      "hbo max            2774\n",
      "netflix            4550\n",
      "amazon prime       8386\n",
      "\n",
      "              Actors  Directors\n",
      "platform                       \n",
      "disney         25060       1352\n",
      "hulu tv        30448       1354\n",
      "paramount      37664       2178\n",
      "hbo max        63619       2774\n",
      "netflix        73251       4550\n",
      "amazon prime  115793       8386\n"
     ]
    }
   ],
   "source": [
    "Q5Actors = credits[credits[\"role\"]==\"ACTOR\"]\n",
    "Q5Actors = Q5Actors.groupby([\"platform\"]).agg(Actors = (\"person_id\", \"count\")).sort_values(by=[\"Actors\"])\n",
    "print(Q5Actors)\n",
    "\n",
    "print()\n",
    "\n",
    "Q5Directors = credits[credits[\"role\"]==\"DIRECTOR\"]\n",
    "Q5Directors = Q5Directors.groupby([\"platform\"]).agg(Directors = (\"person_id\", \"count\")).sort_values(by=[\"Directors\"])\n",
    "print(Q5Directors)\n",
    "\n",
    "print()\n",
    "\n",
    "WhoIsWho = pd.merge(Q5Actors,\n",
    "                    Q5Directors[\"Directors\"],\n",
    "                    on=\"platform\")\n",
    "\n",
    "print(WhoIsWho)\n"
   ]
  },
  {
   "cell_type": "code",
   "execution_count": 12,
   "id": "c56251d0-1548-4f71-87dc-8d75fc4bac03",
   "metadata": {},
   "outputs": [
    {
     "data": {
      "text/plain": [
       "<matplotlib.legend.Legend at 0x2ee6adfed90>"
      ]
     },
     "execution_count": 12,
     "metadata": {},
     "output_type": "execute_result"
    },
    {
     "data": {
      "image/png": "[encoded data removed]",
      "text/plain": [
       "<Figure size 640x480 with 1 Axes>"
      ]
     },
     "metadata": {},
     "output_type": "display_data"
    }
   ],
   "source": [
    "WhoIsWho.plot.bar(\n",
    "    rot=0, \n",
    "    title = \"Total Actors and Directors Per Platform\"\n",
    ").legend(\n",
    "    loc='center left', \n",
    "    bbox_to_anchor=(1,0.5)\n",
    ")\n"
   ]
  },
  {
   "cell_type": "markdown",
   "id": "57e8ba36-3810-4271-b3d5-844b28bcc9b7",
   "metadata": {},
   "source": [
    "### Question 3: Distribution of genres. <a name=\"distgenre\"></a>"
   ]
  },
  {
   "cell_type": "code",
   "execution_count": 13,
   "id": "d3fb72c9-c515-4302-acb0-4b1b9a0892f9",
   "metadata": {},
   "outputs": [
    {
     "name": "stdout",
     "output_type": "stream",
     "text": [
      "drama         : 11608\n",
      "comedy        : 8867\n",
      "thriller      : 5011\n",
      "action        : 4833\n",
      "romance       : 4241\n",
      "documentation : 3925\n",
      "crime         : 3433\n",
      "family        : 2975\n",
      "scifi         : 2580\n",
      "animation     : 2506\n",
      "fantasy       : 2495\n",
      "horror        : 2193\n",
      "european      : 1804\n",
      "music         : 1180\n",
      "history       : 1090\n",
      "western       : 855\n",
      "reality       : 799\n",
      "war           : 773\n",
      "sport         : 693\n",
      "no genre      : 423\n"
     ]
    }
   ],
   "source": [
    "gens = {}\n",
    "\n",
    "for i, row in titles.iterrows():\n",
    "    if pd.isna(row['genres']):\n",
    "        gens['no genre'] = gens.get('no genre', 0) + 1\n",
    "        continue\n",
    "    for g in row['genres'].split('|'):\n",
    "        gens[g] = gens.get(g, 0) + 1\n",
    "\n",
    "for gen, cnt in sorted(gens.items(), key = lambda i: i[1], reverse=True):\n",
    "    print(f'{gen: <14}: {cnt}')"
   ]
  },
  {
   "cell_type": "markdown",
   "id": "eaac68b2-34a0-4085-ae66-bad2d3c630b8",
   "metadata": {},
   "source": [
    "### Question 4: Average TMDB and IMDB Score per Genre <a name=\"avgtmdb\"></a>"
   ]
  },
  {
   "cell_type": "code",
   "execution_count": 14,
   "id": "a9f98ae3-446e-4d21-a1d5-2755bbc49dba",
   "metadata": {},
   "outputs": [
    {
     "name": "stdout",
     "output_type": "stream",
     "text": [
      "animation     : 7.17\n",
      "reality       : 7.15\n",
      "documentation : 6.93\n",
      "history       : 6.91\n",
      "family        : 6.82\n",
      "fantasy       : 6.79\n",
      "scifi         : 6.65\n",
      "war           : 6.65\n",
      "sport         : 6.63\n",
      "music         : 6.55\n",
      "drama         : 6.52\n",
      "european      : 6.52\n",
      "crime         : 6.49\n",
      "comedy        : 6.46\n",
      "action        : 6.43\n",
      "romance       : 6.36\n",
      "thriller      : 6.21\n",
      "horror        : 5.78\n",
      "western       : 5.66\n"
     ]
    }
   ],
   "source": [
    "tmdb_scores = {}\n",
    "\n",
    "for i, row in titles.iterrows():\n",
    "    if pd.isna(row['genres']) or pd.isna(row['tmdb_score']):\n",
    "        continue\n",
    "    for genre in row['genres'].split('|'):\n",
    "        tmdb_scores[genre] = tmdb_scores.get(genre, []) + [row['tmdb_score']]\n",
    "        \n",
    "tmdb_scores_avg = {}\n",
    "for gen, ls in sorted(tmdb_scores.items(), key = lambda i: i[1], reverse=True):\n",
    "    tmdb_scores_avg[gen] = sum(ls)/len(ls)\n",
    "\n",
    "\n",
    "for gen, n in sorted(tmdb_scores_avg.items(), key = lambda i: i[1], reverse=True):\n",
    "    print(f'{gen: <14}: {n:.2f}')"
   ]
  },
  {
   "cell_type": "markdown",
   "id": "9e61eee0-c630-4442-a3b2-b5f221c37957",
   "metadata": {},
   "source": [
    "### Question 5: What is the Distribution of Movies and TV Shows Per Platform <a name=\"distshowsmovies\"></a>"
   ]
  },
  {
   "cell_type": "code",
   "execution_count": 15,
   "id": "7255c0e0",
   "metadata": {
    "tags": []
   },
   "outputs": [
    {
     "data": {
      "text/plain": [
       "array(['MOVIE', 'SHOW'], dtype=object)"
      ]
     },
     "execution_count": 15,
     "metadata": {},
     "output_type": "execute_result"
    }
   ],
   "source": [
    "#Looking at the unique values in the type column of the titles DF\n",
    "titles.type.unique()"
   ]
  },
  {
   "cell_type": "code",
   "execution_count": 16,
   "id": "1401e1cd",
   "metadata": {},
   "outputs": [],
   "source": [
    "#Making a sub dataframes for each platform\n",
    "\n",
    "AmazonDF = pd.DataFrame((titles[titles[\"platform\"]==\"amazon prime\"]), columns=[\"type\",\"platform\",\"release_year\"])\n",
    "DisneyDF = pd.DataFrame((titles[titles[\"platform\"]==\"disney\"]), columns=[\"type\",\"platform\",\"release_year\"])\n",
    "HBOMaxDF = pd.DataFrame((titles[titles[\"platform\"]==\"hbo max\"]), columns=[\"type\",\"platform\",\"release_year\"])\n",
    "HuluDF = pd.DataFrame((titles[titles[\"platform\"]==\"hulu tv\"]), columns=[\"type\",\"platform\",\"release_year\"])\n",
    "NetflixDF = pd.DataFrame((titles[titles[\"platform\"]==\"netflix\"]), columns=[\"type\",\"platform\",\"release_year\"])\n",
    "ParamountDF = pd.DataFrame((titles[titles[\"platform\"]==\"paramount\"]), columns=[\"type\",\"platform\",\"release_year\"])"
   ]
  },
  {
   "cell_type": "code",
   "execution_count": 17,
   "id": "4d8ffccd",
   "metadata": {},
   "outputs": [],
   "source": [
    "def movieVStv(platform, ls):\n",
    "    MovieCount=0\n",
    "    TVCount=0 \n",
    "    for x in ls: \n",
    "        if x == \"MOVIE\": \n",
    "            MovieCount += 1\n",
    "        elif x == \"SHOW\":\n",
    "            TVCount += 1\n",
    "        elif x != \"MOVIE\" or \"SHOW\":\n",
    "            continue \n",
    "    response=f\"{platform: <10}: There are {MovieCount} movies and {TVCount} TV Shows\"\n",
    "    return response\n",
    "        "
   ]
  },
  {
   "cell_type": "code",
   "execution_count": 18,
   "id": "0e5fcb16-82a9-424d-b123-90ee88e583e8",
   "metadata": {},
   "outputs": [
    {
     "name": "stdout",
     "output_type": "stream",
     "text": [
      "Amazon    : There are 8501 movies and 1244 TV Shows\n",
      "Disney +  : There are 1116 movies and 401 TV Shows\n",
      "HBO Max   : There are 2537 movies and 728 TV Shows\n",
      "Hulu      : There are 1068 movies and 1251 TV Shows\n",
      "Netflix   : There are 3741 movies and 2057 TV Shows\n",
      "Paramount : There are 2198 movies and 588 TV Shows\n"
     ]
    }
   ],
   "source": [
    "print(movieVStv('Amazon', AmazonDF[\"type\"]))\n",
    "print(movieVStv('Disney +', DisneyDF[\"type\"]))\n",
    "print(movieVStv('HBO Max', HBOMaxDF[\"type\"]))\n",
    "print(movieVStv('Hulu', HuluDF[\"type\"]))\n",
    "print(movieVStv('Netflix', NetflixDF[\"type\"]))\n",
    "print(movieVStv('Paramount', ParamountDF[\"type\"]))"
   ]
  },
  {
   "cell_type": "code",
   "execution_count": 19,
   "id": "45215e76-b326-437d-adb1-bda3fd1cff9d",
   "metadata": {},
   "outputs": [
    {
     "data": {
      "text/html": [
       "<div>\n",
       "<style scoped>\n",
       "    .dataframe tbody tr th:only-of-type {\n",
       "        vertical-align: middle;\n",
       "    }\n",
       "\n",
       "    .dataframe tbody tr th {\n",
       "        vertical-align: top;\n",
       "    }\n",
       "\n",
       "    .dataframe thead th {\n",
       "        text-align: right;\n",
       "    }\n",
       "</style>\n",
       "<table border=\"1\" class=\"dataframe\">\n",
       "  <thead>\n",
       "    <tr style=\"text-align: right;\">\n",
       "      <th></th>\n",
       "      <th>Movie Count</th>\n",
       "      <th>TV Show Count</th>\n",
       "    </tr>\n",
       "    <tr>\n",
       "      <th>platform</th>\n",
       "      <th></th>\n",
       "      <th></th>\n",
       "    </tr>\n",
       "  </thead>\n",
       "  <tbody>\n",
       "    <tr>\n",
       "      <th>amazon prime</th>\n",
       "      <td>8497</td>\n",
       "      <td>1244</td>\n",
       "    </tr>\n",
       "    <tr>\n",
       "      <th>disney</th>\n",
       "      <td>1116</td>\n",
       "      <td>401</td>\n",
       "    </tr>\n",
       "    <tr>\n",
       "      <th>hbo max</th>\n",
       "      <td>2535</td>\n",
       "      <td>728</td>\n",
       "    </tr>\n",
       "    <tr>\n",
       "      <th>hulu tv</th>\n",
       "      <td>1068</td>\n",
       "      <td>1250</td>\n",
       "    </tr>\n",
       "    <tr>\n",
       "      <th>netflix</th>\n",
       "      <td>3740</td>\n",
       "      <td>2055</td>\n",
       "    </tr>\n",
       "    <tr>\n",
       "      <th>paramount</th>\n",
       "      <td>2198</td>\n",
       "      <td>588</td>\n",
       "    </tr>\n",
       "  </tbody>\n",
       "</table>\n",
       "</div>"
      ],
      "text/plain": [
       "              Movie Count  TV Show Count\n",
       "platform                                \n",
       "amazon prime         8497           1244\n",
       "disney               1116            401\n",
       "hbo max              2535            728\n",
       "hulu tv              1068           1250\n",
       "netflix              3740           2055\n",
       "paramount            2198            588"
      ]
     },
     "execution_count": 19,
     "metadata": {},
     "output_type": "execute_result"
    }
   ],
   "source": [
    "Q3Data = {\n",
    "    'platform':['amazon prime', 'disney', 'hbo max', 'hulu tv', 'netflix','paramount'],\n",
    "    'Movie Count':[8497,1116,2535,1068,3740,2198], \n",
    "    \"TV Show Count\":[1244,401,728,1250,2055,588]\n",
    "}\n",
    "Q3DF=pd.DataFrame(Q3Data)\n",
    "Q3DF=Q3DF.set_index(\"platform\")\n",
    "Q3DF"
   ]
  },
  {
   "cell_type": "code",
   "execution_count": 20,
   "id": "34cb25b7-1b1d-4198-b778-8fb0521f7e7a",
   "metadata": {},
   "outputs": [
    {
     "data": {
      "text/plain": [
       "<AxesSubplot:title={'center':'Movies vs TV Show Counts per Platform'}, xlabel='platform'>"
      ]
     },
     "execution_count": 20,
     "metadata": {},
     "output_type": "execute_result"
    },
    {
     "data": {
      "image/png": "[encoded data removed]",
      "text/plain": [
       "<Figure size 640x480 with 1 Axes>"
      ]
     },
     "metadata": {},
     "output_type": "display_data"
    }
   ],
   "source": [
    "Q3DF.plot.bar(rot=0, title = \"Movies vs TV Show Counts per Platform\")"
   ]
  },
  {
   "cell_type": "code",
   "execution_count": 21,
   "id": "e81a065a-1222-4da6-8516-264dd318722b",
   "metadata": {},
   "outputs": [
    {
     "name": "stdout",
     "output_type": "stream",
     "text": [
      "[2019 2021 2015 1936 2016 2017 1944 2006 2001 1993 2008 2020 1995 1979\n",
      " 2013 1955 2005 1943 1991 1954 1941 1939 2010 1969 2018 2011 2014 1942\n",
      " 1988 1959 2009 1931 2012 1970 1997 1973 1946 1945 1996 1929 1948 1962\n",
      " 1938 1967 1964 1990 1987 1940 1980 1985 1994 1984 2022 1999 1972 2004\n",
      " 2007 1966 2000 1998 1932 1981 1963 1950 1937 1952 1960 1949 1977 1953\n",
      " 1958 2003 1933 1976 1989 1992 1915 1971 1934 2002 1935 1982 1918 1975\n",
      " 1974 1947 1983 1968 1986 1956 1965 1924 1930 1961 1926 1912 1978 1920\n",
      " 1927 1928 1957 1925 1923 1951 1921 1922 1917 1919 1914 1916 1906 1902\n",
      " 1904 1909 1903 1901]\n",
      "\n",
      "Min 1901\n",
      "\n",
      "Max 2022\n"
     ]
    }
   ],
   "source": [
    "print(titles.release_year.unique())\n",
    "print()\n",
    "print(\"Min\",titles.release_year.min())\n",
    "print()\n",
    "print(\"Max\",titles.release_year.max())"
   ]
  },
  {
   "cell_type": "code",
   "execution_count": 22,
   "id": "5629811d-7892-4b2f-8593-05d693b50b70",
   "metadata": {},
   "outputs": [],
   "source": [
    "def DecadesCount(ls,provider):\n",
    "    Nineteen = 0\n",
    "    Nineteen10s = 0\n",
    "    Nineteen20s = 0\n",
    "    Nineteen30s = 0\n",
    "    Nineteen40s = 0\n",
    "    Nineteen50s = 0\n",
    "    Nineteen60s = 0\n",
    "    Nineteen70s = 0\n",
    "    Nineteen80s = 0\n",
    "    Nineteen90s = 0\n",
    "    Twenty = 0\n",
    "    Twenty10s = 0\n",
    "    Twenty20s = 0\n",
    "    for x in ls: \n",
    "        if x >=1900 and x<=1909: \n",
    "            Nineteen += 1\n",
    "        elif x >=1910 and x<=1919:\n",
    "            Nineteen10s += 1\n",
    "        elif x >=1920 and x<=1929: \n",
    "            Nineteen20s += 1\n",
    "        elif x >=1930 and x<=1939: \n",
    "            Nineteen30s += 1\n",
    "        elif x >=1940 and x<=1949: \n",
    "            Nineteen40s += 1\n",
    "        elif x >=1950 and x<=1959:\n",
    "            Nineteen50s += 1\n",
    "        elif x >=1960 and x<=1969: \n",
    "            Nineteen60s += 1\n",
    "        elif x >=1970 and x<=1979: \n",
    "            Nineteen70s += 1\n",
    "        elif x >=1980 and x<=1989: \n",
    "            Nineteen80s += 1\n",
    "        elif x >=1990 and x<=1999: \n",
    "            Nineteen90s += 1\n",
    "        elif x >=2000 and x<=2009: \n",
    "            Twenty += 1\n",
    "        elif x >=2010 and x<=2019: \n",
    "            Twenty10s += 1\n",
    "        elif x >=2020 and x<=2029: \n",
    "            Twenty20s += 1\n",
    "         \n",
    "    response={\n",
    "        'Year':[\n",
    "            \"1900-1909\",\"1910-1919\",\"1920-1929\",\n",
    "            \"1930-1939\",\"1940-1949\",\"1950-1959\",\n",
    "            \"1960-1969\",\"1970-1979\",\"1980-1989\",\n",
    "            \"1990-1999\",\"2000-2009\",\"2010-2019\",\"2020-2029\"\n",
    "        ],\n",
    "        'Counts':[\n",
    "            Nineteen,Nineteen10s,Nineteen20s,Nineteen30s,\n",
    "            Nineteen40s,Nineteen50s,Nineteen60s,Nineteen70s,\n",
    "            Nineteen80s,Nineteen90s,Twenty,Twenty10s,Twenty20s\n",
    "        ]\n",
    "    }\n",
    "    responseDF = pd.DataFrame(response)\\\n",
    "        .set_index(\"Year\")\\\n",
    "        .rename(columns={\"Counts\":provider})\n",
    "    \n",
    "    return responseDF"
   ]
  },
  {
   "cell_type": "code",
   "execution_count": 23,
   "id": "0dc95c20-0525-4e5a-b87d-38423bb1ed70",
   "metadata": {
    "scrolled": true
   },
   "outputs": [
    {
     "name": "stdout",
     "output_type": "stream",
     "text": [
      "           Amazon Counts\n",
      "Year                    \n",
      "1900-1909              0\n",
      "1910-1919             20\n",
      "1920-1929             65\n",
      "1930-1939            414\n",
      "1940-1949            420\n",
      "1950-1959            252\n",
      "1960-1969            236\n",
      "1970-1979            354\n",
      "1980-1989            402\n",
      "1990-1999            533\n",
      "2000-2009           1147\n",
      "2010-2019           4274\n",
      "2020-2029           1628\n",
      "\n",
      "           Disney Counts\n",
      "Year                    \n",
      "1900-1909              0\n",
      "1910-1919              0\n",
      "1920-1929              1\n",
      "1930-1939             35\n",
      "1940-1949             42\n",
      "1950-1959             51\n",
      "1960-1969             28\n",
      "1970-1979             39\n",
      "1980-1989             54\n",
      "1990-1999            136\n",
      "2000-2009            280\n",
      "2010-2019            555\n",
      "2020-2029            296\n",
      "\n",
      "           HBO Max Counts\n",
      "Year                     \n",
      "1900-1909               8\n",
      "1910-1919              12\n",
      "1920-1929              37\n",
      "1930-1939              59\n",
      "1940-1949              69\n",
      "1950-1959              96\n",
      "1960-1969             123\n",
      "1970-1979             116\n",
      "1980-1989             157\n",
      "1990-1999             306\n",
      "2000-2009             617\n",
      "2010-2019            1092\n",
      "2020-2029             573\n",
      "\n",
      "           Hulu Counts\n",
      "Year                  \n",
      "1900-1909            0\n",
      "1910-1919            0\n",
      "1920-1929            0\n",
      "1930-1939            0\n",
      "1940-1949            0\n",
      "1950-1959            1\n",
      "1960-1969            3\n",
      "1970-1979            9\n",
      "1980-1989           34\n",
      "1990-1999          127\n",
      "2000-2009          339\n",
      "2010-2019         1277\n",
      "2020-2029          529\n",
      "\n",
      "           Netflix Counts\n",
      "Year                     \n",
      "1900-1909               0\n",
      "1910-1919               0\n",
      "1920-1929               0\n",
      "1930-1939               0\n",
      "1940-1949               1\n",
      "1950-1959               5\n",
      "1960-1969               8\n",
      "1970-1979              18\n",
      "1980-1989              51\n",
      "1990-1999             119\n",
      "2000-2009             352\n",
      "2010-2019            3277\n",
      "2020-2029            1967\n",
      "\n",
      "           Paramount Counts\n",
      "Year                       \n",
      "1900-1909                 0\n",
      "1910-1919                16\n",
      "1920-1929                50\n",
      "1930-1939               225\n",
      "1940-1949               241\n",
      "1950-1959               127\n",
      "1960-1969               116\n",
      "1970-1979               130\n",
      "1980-1989               148\n",
      "1990-1999               155\n",
      "2000-2009               254\n",
      "2010-2019              1106\n",
      "2020-2029               218\n"
     ]
    }
   ],
   "source": [
    "AmazonCntsDF = DecadesCount(AmazonDF[\"release_year\"],\"Amazon Counts\")\n",
    "print(AmazonCntsDF)\n",
    "print()\n",
    "DisneyCntsDF = DecadesCount(DisneyDF[\"release_year\"],\"Disney Counts\")\n",
    "print(DisneyCntsDF)\n",
    "print()\n",
    "HBOCntsDF = DecadesCount(HBOMaxDF[\"release_year\"],\"HBO Max Counts\")\n",
    "print(HBOCntsDF)\n",
    "print()\n",
    "HuluCntsDF = DecadesCount(HuluDF[\"release_year\"],\"Hulu Counts\")\n",
    "print(HuluCntsDF)\n",
    "print()\n",
    "NetflixCntsDF = DecadesCount(NetflixDF[\"release_year\"],\"Netflix Counts\")\n",
    "print(NetflixCntsDF)\n",
    "print()\n",
    "ParamountCntsDF = DecadesCount(ParamountDF[\"release_year\"],\"Paramount Counts\")\n",
    "print(ParamountCntsDF)"
   ]
  },
  {
   "cell_type": "code",
   "execution_count": 24,
   "id": "aea20754-e653-4457-bb99-4429623dc463",
   "metadata": {},
   "outputs": [
    {
     "data": {
      "text/html": [
       "<div>\n",
       "<style scoped>\n",
       "    .dataframe tbody tr th:only-of-type {\n",
       "        vertical-align: middle;\n",
       "    }\n",
       "\n",
       "    .dataframe tbody tr th {\n",
       "        vertical-align: top;\n",
       "    }\n",
       "\n",
       "    .dataframe thead th {\n",
       "        text-align: right;\n",
       "    }\n",
       "</style>\n",
       "<table border=\"1\" class=\"dataframe\">\n",
       "  <thead>\n",
       "    <tr style=\"text-align: right;\">\n",
       "      <th></th>\n",
       "      <th>Amazon Counts</th>\n",
       "      <th>Disney Counts</th>\n",
       "      <th>HBO Max Counts</th>\n",
       "      <th>Hulu Counts</th>\n",
       "      <th>Netflix Counts</th>\n",
       "      <th>Paramount Counts</th>\n",
       "    </tr>\n",
       "    <tr>\n",
       "      <th>Year</th>\n",
       "      <th></th>\n",
       "      <th></th>\n",
       "      <th></th>\n",
       "      <th></th>\n",
       "      <th></th>\n",
       "      <th></th>\n",
       "    </tr>\n",
       "  </thead>\n",
       "  <tbody>\n",
       "    <tr>\n",
       "      <th>1900-1909</th>\n",
       "      <td>0</td>\n",
       "      <td>0</td>\n",
       "      <td>8</td>\n",
       "      <td>0</td>\n",
       "      <td>0</td>\n",
       "      <td>0</td>\n",
       "    </tr>\n",
       "    <tr>\n",
       "      <th>1910-1919</th>\n",
       "      <td>20</td>\n",
       "      <td>0</td>\n",
       "      <td>12</td>\n",
       "      <td>0</td>\n",
       "      <td>0</td>\n",
       "      <td>16</td>\n",
       "    </tr>\n",
       "    <tr>\n",
       "      <th>1920-1929</th>\n",
       "      <td>65</td>\n",
       "      <td>1</td>\n",
       "      <td>37</td>\n",
       "      <td>0</td>\n",
       "      <td>0</td>\n",
       "      <td>50</td>\n",
       "    </tr>\n",
       "    <tr>\n",
       "      <th>1930-1939</th>\n",
       "      <td>414</td>\n",
       "      <td>35</td>\n",
       "      <td>59</td>\n",
       "      <td>0</td>\n",
       "      <td>0</td>\n",
       "      <td>225</td>\n",
       "    </tr>\n",
       "    <tr>\n",
       "      <th>1940-1949</th>\n",
       "      <td>420</td>\n",
       "      <td>42</td>\n",
       "      <td>69</td>\n",
       "      <td>0</td>\n",
       "      <td>1</td>\n",
       "      <td>241</td>\n",
       "    </tr>\n",
       "    <tr>\n",
       "      <th>1950-1959</th>\n",
       "      <td>252</td>\n",
       "      <td>51</td>\n",
       "      <td>96</td>\n",
       "      <td>1</td>\n",
       "      <td>5</td>\n",
       "      <td>127</td>\n",
       "    </tr>\n",
       "    <tr>\n",
       "      <th>1960-1969</th>\n",
       "      <td>236</td>\n",
       "      <td>28</td>\n",
       "      <td>123</td>\n",
       "      <td>3</td>\n",
       "      <td>8</td>\n",
       "      <td>116</td>\n",
       "    </tr>\n",
       "    <tr>\n",
       "      <th>1970-1979</th>\n",
       "      <td>354</td>\n",
       "      <td>39</td>\n",
       "      <td>116</td>\n",
       "      <td>9</td>\n",
       "      <td>18</td>\n",
       "      <td>130</td>\n",
       "    </tr>\n",
       "    <tr>\n",
       "      <th>1980-1989</th>\n",
       "      <td>402</td>\n",
       "      <td>54</td>\n",
       "      <td>157</td>\n",
       "      <td>34</td>\n",
       "      <td>51</td>\n",
       "      <td>148</td>\n",
       "    </tr>\n",
       "    <tr>\n",
       "      <th>1990-1999</th>\n",
       "      <td>533</td>\n",
       "      <td>136</td>\n",
       "      <td>306</td>\n",
       "      <td>127</td>\n",
       "      <td>119</td>\n",
       "      <td>155</td>\n",
       "    </tr>\n",
       "    <tr>\n",
       "      <th>2000-2009</th>\n",
       "      <td>1147</td>\n",
       "      <td>280</td>\n",
       "      <td>617</td>\n",
       "      <td>339</td>\n",
       "      <td>352</td>\n",
       "      <td>254</td>\n",
       "    </tr>\n",
       "    <tr>\n",
       "      <th>2010-2019</th>\n",
       "      <td>4274</td>\n",
       "      <td>555</td>\n",
       "      <td>1092</td>\n",
       "      <td>1277</td>\n",
       "      <td>3277</td>\n",
       "      <td>1106</td>\n",
       "    </tr>\n",
       "    <tr>\n",
       "      <th>2020-2029</th>\n",
       "      <td>1628</td>\n",
       "      <td>296</td>\n",
       "      <td>573</td>\n",
       "      <td>529</td>\n",
       "      <td>1967</td>\n",
       "      <td>218</td>\n",
       "    </tr>\n",
       "  </tbody>\n",
       "</table>\n",
       "</div>"
      ],
      "text/plain": [
       "           Amazon Counts  Disney Counts  HBO Max Counts  Hulu Counts  \\\n",
       "Year                                                                   \n",
       "1900-1909              0              0               8            0   \n",
       "1910-1919             20              0              12            0   \n",
       "1920-1929             65              1              37            0   \n",
       "1930-1939            414             35              59            0   \n",
       "1940-1949            420             42              69            0   \n",
       "1950-1959            252             51              96            1   \n",
       "1960-1969            236             28             123            3   \n",
       "1970-1979            354             39             116            9   \n",
       "1980-1989            402             54             157           34   \n",
       "1990-1999            533            136             306          127   \n",
       "2000-2009           1147            280             617          339   \n",
       "2010-2019           4274            555            1092         1277   \n",
       "2020-2029           1628            296             573          529   \n",
       "\n",
       "           Netflix Counts  Paramount Counts  \n",
       "Year                                         \n",
       "1900-1909               0                 0  \n",
       "1910-1919               0                16  \n",
       "1920-1929               0                50  \n",
       "1930-1939               0               225  \n",
       "1940-1949               1               241  \n",
       "1950-1959               5               127  \n",
       "1960-1969               8               116  \n",
       "1970-1979              18               130  \n",
       "1980-1989              51               148  \n",
       "1990-1999             119               155  \n",
       "2000-2009             352               254  \n",
       "2010-2019            3277              1106  \n",
       "2020-2029            1967               218  "
      ]
     },
     "execution_count": 24,
     "metadata": {},
     "output_type": "execute_result"
    }
   ],
   "source": [
    "FullCntDF = pd.merge(AmazonCntsDF,\n",
    "                    DisneyCntsDF[\"Disney Counts\"],\n",
    "                    on=\"Year\")\n",
    "\n",
    "FullCntDF = pd.merge(FullCntDF,\n",
    "                    HBOCntsDF[\"HBO Max Counts\"],\n",
    "                    on=\"Year\")\n",
    "\n",
    "FullCntDF = pd.merge(FullCntDF,\n",
    "                    HuluCntsDF[\"Hulu Counts\"],\n",
    "                    on=\"Year\")\n",
    "\n",
    "FullCntDF = pd.merge(FullCntDF,\n",
    "                    NetflixCntsDF[\"Netflix Counts\"],\n",
    "                    on=\"Year\")\n",
    "\n",
    "FullCntDF = pd.merge(FullCntDF,\n",
    "                    ParamountCntsDF[\"Paramount Counts\"],\n",
    "                    on=\"Year\")\n",
    "\n",
    "FullCntDF "
   ]
  },
  {
   "cell_type": "code",
   "execution_count": 25,
   "id": "0ca39132-9054-4271-8259-99369267292b",
   "metadata": {},
   "outputs": [
    {
     "data": {
      "text/plain": [
       "<matplotlib.legend.Legend at 0x2ee63570c40>"
      ]
     },
     "execution_count": 25,
     "metadata": {},
     "output_type": "execute_result"
    },
    {
     "data": {
      "image/png": "[encoded data removed]",
      "text/plain": [
       "<Figure size 640x480 with 1 Axes>"
      ]
     },
     "metadata": {},
     "output_type": "display_data"
    }
   ],
   "source": [
    "FullCntDF.plot.bar(subplots=False, stacked=True).legend(loc='center left', bbox_to_anchor=(1,0.5))\n"
   ]
  },
  {
   "cell_type": "code",
   "execution_count": 26,
   "id": "797c887f-3287-4e77-b53a-4c725e1b8ecb",
   "metadata": {},
   "outputs": [
    {
     "data": {
      "text/plain": [
       "<matplotlib.legend.Legend at 0x2ee6c2bb250>"
      ]
     },
     "execution_count": 26,
     "metadata": {},
     "output_type": "execute_result"
    },
    {
     "data": {
      "image/png": "[encoded data removed]",
      "text/plain": [
       "<Figure size 640x480 with 1 Axes>"
      ]
     },
     "metadata": {},
     "output_type": "display_data"
    }
   ],
   "source": [
    "FullCntDF.plot.bar(subplots=False).legend(loc='center left', bbox_to_anchor=(1,0.5))\n"
   ]
  },
  {
   "cell_type": "markdown",
   "id": "174140aa-e644-4783-8e6f-30b9fb3227c2",
   "metadata": {},
   "source": [
    "### Question 6: TMDB and IMDB Score Distribution <a name=\"imdbscoredist\"></a>"
   ]
  },
  {
   "cell_type": "code",
   "execution_count": 27,
   "id": "0d71a08e-a95d-4ec3-affa-6b114e973257",
   "metadata": {},
   "outputs": [
    {
     "data": {
      "text/plain": [
       "array([[<AxesSubplot:title={'center':'imdb_score'}>]], dtype=object)"
      ]
     },
     "execution_count": 27,
     "metadata": {},
     "output_type": "execute_result"
    },
    {
     "data": {
      "image/png": "[encoded data removed]",
      "text/plain": [
       "<Figure size 640x480 with 1 Axes>"
      ]
     },
     "metadata": {},
     "output_type": "display_data"
    }
   ],
   "source": [
    "titles.hist(column='imdb_score')"
   ]
  },
  {
   "cell_type": "markdown",
   "id": "6633464b-cb24-46db-808b-6e072eb3b54c",
   "metadata": {},
   "source": [
    "### Question 7: Average TMDB and IMDB Score Per Platform <a name=\"tmdbscoreperplatform\"></a>"
   ]
  },
  {
   "cell_type": "code",
   "execution_count": 28,
   "id": "7119d15a",
   "metadata": {
    "tags": []
   },
   "outputs": [
    {
     "data": {
      "text/html": [
       "<div>\n",
       "<style scoped>\n",
       "    .dataframe tbody tr th:only-of-type {\n",
       "        vertical-align: middle;\n",
       "    }\n",
       "\n",
       "    .dataframe tbody tr th {\n",
       "        vertical-align: top;\n",
       "    }\n",
       "\n",
       "    .dataframe thead th {\n",
       "        text-align: right;\n",
       "    }\n",
       "</style>\n",
       "<table border=\"1\" class=\"dataframe\">\n",
       "  <thead>\n",
       "    <tr style=\"text-align: right;\">\n",
       "      <th></th>\n",
       "      <th>avg_IMBD</th>\n",
       "      <th>avg_TMBD</th>\n",
       "    </tr>\n",
       "    <tr>\n",
       "      <th>platform</th>\n",
       "      <th></th>\n",
       "      <th></th>\n",
       "    </tr>\n",
       "  </thead>\n",
       "  <tbody>\n",
       "    <tr>\n",
       "      <th>amazon prime</th>\n",
       "      <td>6.0</td>\n",
       "      <td>6.0</td>\n",
       "    </tr>\n",
       "    <tr>\n",
       "      <th>disney</th>\n",
       "      <td>6.6</td>\n",
       "      <td>6.9</td>\n",
       "    </tr>\n",
       "    <tr>\n",
       "      <th>hbo max</th>\n",
       "      <td>6.9</td>\n",
       "      <td>6.8</td>\n",
       "    </tr>\n",
       "    <tr>\n",
       "      <th>hulu tv</th>\n",
       "      <td>6.7</td>\n",
       "      <td>6.9</td>\n",
       "    </tr>\n",
       "    <tr>\n",
       "      <th>netflix</th>\n",
       "      <td>6.5</td>\n",
       "      <td>6.8</td>\n",
       "    </tr>\n",
       "    <tr>\n",
       "      <th>paramount</th>\n",
       "      <td>6.0</td>\n",
       "      <td>6.0</td>\n",
       "    </tr>\n",
       "  </tbody>\n",
       "</table>\n",
       "</div>"
      ],
      "text/plain": [
       "              avg_IMBD  avg_TMBD\n",
       "platform                        \n",
       "amazon prime       6.0       6.0\n",
       "disney             6.6       6.9\n",
       "hbo max            6.9       6.8\n",
       "hulu tv            6.7       6.9\n",
       "netflix            6.5       6.8\n",
       "paramount          6.0       6.0"
      ]
     },
     "execution_count": 28,
     "metadata": {},
     "output_type": "execute_result"
    }
   ],
   "source": [
    "Q7 = titles.groupby(\"platform\").agg(\n",
    "    avg_IMBD = (\"imdb_score\",\"mean\"),\n",
    "    avg_TMBD = (\"tmdb_score\", \"mean\")).round(1).sort_values(by=[\"platform\"])\n",
    "\n",
    "Q7"
   ]
  },
  {
   "cell_type": "code",
   "execution_count": 29,
   "id": "3a1d4fca",
   "metadata": {
    "tags": []
   },
   "outputs": [
    {
     "data": {
      "text/plain": [
       "<matplotlib.legend.Legend at 0x2ee6e6555b0>"
      ]
     },
     "execution_count": 29,
     "metadata": {},
     "output_type": "execute_result"
    },
    {
     "data": {
      "image/png": "[encoded data removed]",
      "text/plain": [
       "<Figure size 640x480 with 1 Axes>"
      ]
     },
     "metadata": {},
     "output_type": "display_data"
    }
   ],
   "source": [
    "Q7.plot.bar(rot=0, title = \"Average Rating per Platform\").legend(loc='center left', bbox_to_anchor=(1,0.5))"
   ]
  },
  {
   "cell_type": "markdown",
   "id": "e177cc72-9f67-4432-8bbe-5767a87beef7",
   "metadata": {
    "tags": []
   },
   "source": [
    "## Sources <a name=\"sources\"></a>\n",
    "\n",
    "Data taken from:\n",
    "\n",
    "1. https://www.kaggle.com/datasets/victorsoeiro/netflix-tv-shows-and-movies\n",
    "1. https://www.kaggle.com/datasets/victorsoeiro/amazon-prime-tv-shows-and-movies\n",
    "1. https://www.kaggle.com/datasets/victorsoeiro/disney-tv-shows-and-movies\n",
    "1. https://www.kaggle.com/datasets/victorsoeiro/hbo-max-tv-shows-and-movies\n",
    "1. https://www.kaggle.com/datasets/victorsoeiro/hulu-tv-shows-and-movies\n",
    "1. https://www.kaggle.com/datasets/victorsoeiro/paramount-tv-shows-and-movies"
   ]
  }
 ],
 "metadata": {
  "kernelspec": {
   "display_name": "Python 3 (ipykernel)",
   "language": "python",
   "name": "python3"
  },
  "language_info": {
   "codemirror_mode": {
    "name": "ipython",
    "version": 3
   },
   "file_extension": ".py",
   "mimetype": "text/x-python",
   "name": "python",
   "nbconvert_exporter": "python",
   "pygments_lexer": "ipython3",
   "version": "3.8.15"
  },
  "toc-autonumbering": false,
  "toc-showcode": false,
  "toc-showmarkdowntxt": false,
  "toc-showtags": false
 },
 "nbformat": 4,
 "nbformat_minor": 5
}
